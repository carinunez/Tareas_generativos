{
  "cells": [
    {
      "cell_type": "markdown",
      "metadata": {
        "id": "APEcMpP3ru2r"
      },
      "source": [
        "# Tarea 1: Modelos Autorregresivos\n",
        "\n",
        "### MDS7203 Modelos Generativos Profundos\n",
        "\n",
        "**Nombre:**\n",
        "- Carolina Nuñez\n",
        "- Hecmar Taucare\n",
        "\n",
        "**Fecha de entrega:**\n",
        "\n",
        "Dado que la arquitectura Transformer es una de las dos arquitecturas específicas que se verán a lo largo del curso (la otra es la arquitectura U-Net), es importante asegurarse de entenderla bien. Por este motivo, esta primera tarea tendrá varias preguntas conceptuales que buscan evaluar si se entienden bien algunos detalles importantes de la arquitectura Transformer.\n",
        "\n",
        "Algunas instrucciones generales:\n",
        "- Se pueden utilizar de manera libre herramientas como ChatGPT y Claude, entre otras.\n",
        "- Para la entrega, no es necesario un informe, este archivo es suficiente.\n",
        "- Se debe entregar el documento con todas las celdas ejecutadas.\n",
        "- Se recomienda correr la tarea en GPU (usando Google Colab o una GPU local).\n",
        "- La tarea tiene 3 partes, y cada parte vale lo mismo."
      ]
    },
    {
      "cell_type": "markdown",
      "metadata": {
        "id": "wDFZAn8Qru2t"
      },
      "source": [
        "## Parte 1 (preguntas conceptuales)\n",
        "\n",
        "### Modelos autorregresivos generales\n",
        "- ¿Qué son los tokens especiales dentro de un vocabulario? Nombre al menos 5 junto a su función.\n",
        "> **Respuesta:**\n",
        "  Tokens especiales: son tokens añadidos durante el proceso de tokenización para cumplir un a función en particular, y son utilizados como marcadores.\n",
        "  1. **\\<PAD>** : utilizado como \"relleno\", para forzar el largo de una secuencia cuando no se logra el tamaño adecuado.\n",
        "  2. **\\<BOS>** : token agregado al inicio de cada secuencia\n",
        "  3. **\\<EOS>** : token agregado al final de cada secuencia\n",
        "  4. **\\<UNK>** : utilizado para representar tokens desconocidos,ie. fuera del vocabulario extendido.\n",
        "  5. **\\<MASK>** : utilizado para enmascarar/tapar un token. Se suele utilizar en BERT.\n",
        "\n",
        "- Los modelos autorregresivos se entrenan siguiendo el enfoque de máxima verosimilitud. Sin embargo, durante el entrenamiento, es usual normalizar la verosimilitud de una secuencia por su largo, ¿por qué se hace esto?\n",
        "> **Respuesta:**\n",
        "Como la log verosimilitud se define como una suma, las secuencias de mayor longitud dominarían esta función, entonces para evitar este problema se normaliza por el largo de la secuencia, de esa forma dos maneras de responder a cierta pregunta de forma correcta serían igual de buenas para el modelo, sin priorizar una por sobre otra, porque en una frase mas larga tengo más probabilidad de equivocarme, pero no por eso significa que la respuesta de la secuencia correcta larga sea \"peor\" aunque sea igual de bueno dado que ocupa más\n",
        "carácteres.\n",
        "\n",
        "\n",
        "- ¿Por qué los modelos neuronales por lo general no aplican la función Softmax en la salida, incluso cuando se está buscando aprender un vector de probabilidades (que permite definir una distribución sobre el vocabulario para predecir el siguiente token)? ¿Cómo se relaciona esto con la idea de temperatura usada durante la inferencia?\n",
        "> **Respuesta:**\n",
        "La función Softmax se incluye de forma implícita dentro de la función de pérdida crossentropy, ya que, la salida de la entropia cruzada corresponde\n",
        "a un output de probabilidad, además no se incluye porque o sino se estaría utilizando dos veces si es que en capas intermedias ya es una probabilidad (en los bloques de selfattention. Es por esto que nacen ciertas medidas de normalización, tanto para mejorar la estabilidad del modelo como para tener una salida de probabilidad más flexible, la temperatura es una de estas, en la cual a menor valor de temperatura *(T<1)*  se seleccionaran las secuencias que mayor probabilidad tienen de ser las correctas dadas las secuencias anteriores (menor dispersión en la distribución de tokens) , es decir el top de las mejores, mientras que con mayor temperatura *(T>1)* se le da mayor \"creatividad\" al modelo al elegir secuencias secundarias *(mayor dispersión en la probabilidad de tokens)*, pero que son buenas respuestas. Además no aplicar la softmax resulta más eficiente y estable, porque o sino en la optimización el modelo podría explotar o no converger a un mínimo local aceptable\n",
        "\n",
        "\n",
        "- ¿Cuál es la función de la temperatura al generar secuencias? ¿Qué diferencia hay entre una temperatura alta y una temperatura baja?\n",
        "> **Respuesta:**\n",
        "\n",
        "La **temperatura** es un parámetro que ajusta la aleatoriedad de las predicciones del modelo durante la generación de texto. Se aplica a los *logits* antes de usar la función *softmax*.\n",
        "\n",
        "$$\n",
        "P_i = \\frac{e^{z_i / T}}{\\sum_j e^{z_j / T}}\n",
        "$$\n",
        "\n",
        "Donde:\n",
        "\n",
        "- $( z_i )$: logit del token \\( i \\)  \n",
        "- $( T)$: temperatura (escala)  \n",
        "- $( P_i)$: probabilidad del token \\( i \\)\n",
        "\n",
        "**Interpretación del efecto de T:**\n",
        "\n",
        "- Si \\( T = 1 \\), se usa softmax normal.  \n",
        "- Si \\( T < 1 \\), la distribución se vuelve más “picuda” → más determinismo (elige los tokens más probables al ser mas concentrada).  \n",
        "- Si \\( T > 1 \\), la distribución se aplana → más creatividad (se exploran tokens menos probables).\n",
        "\n",
        "\n",
        "La temperatura permite controlar que tan creativas o precisas serán las secuencias creadas en la inferencia. Una temperatura alta le dará similar probabilidad a todos los tokens suavizando la distribución, mientras que una temperatura baja es bastante determinista pues se le da mayor peso a los tokens con mayor probabilidad *(concentrando o dandole mas peso a las secuencias que por si son las más probables de ser las mejores de todas)*, por lo que, en solicitudes de hacer poemas por ejemplo:\n",
        "La temperatura alta servirá para ajustar la respuesta al elegir secuencias secundarias --> mayor creatividad en labores artísticas.\n",
        "Mientras que para labores matemáticas el modelo tendrá la mejor solución posible a temperatura baja, dado que la matemática posee una lógica subyacente que es inalterable en la mayoria de los casos, tendiendo a una solución determinista\n",
        "\n",
        "\n",
        "### Arquitectura GPT\n",
        "- ¿Por qué se proyecta una misma entrada en 3 matrices ($Q$, $K$ y $V$) para el cálculo de atención? ¿Por qué no usar la propia entrada como vectores de query, key y value?\n",
        "> **Respuesta:**\n",
        "\n",
        "Antes de explicar lo anterior cabe destacar de que cada una de las matrices inician con pesos aleatorios, porque si fueran la misma matriz el modelo aprendería lo mismo. Cada una de estas posee cierta labor dentro del aprendizaje tanto del contexto de los tokens dentro del vocabulario, como la relación entre los tokens. Al multiplicar las matrices entre ellas,las cuales son resultado de entre ellas *(utilizando el producto punto como medida de similitud,)*, se pueden observar relaciones entre tokens y al multiplicar las matrices se fuerza a que el modelo aprenda de la información en otra dimensión (proyección), distintas proyecciones implican diferentes relaciones y puntos de vista diferentes, al paralelizar lo anterior y usar varias capas de selfattention, el modelo puede aprender diferentes habilidades, tales como reconocer estructura gramatical, operaciones lógicas, formas en las que se relacionan las palabras y formas de responder.\n",
        "$$\n",
        "\\text{Attention}(Q, K, V) = \\text{softmax} \\left( \\frac{Q K^\\top}{\\sqrt{p}} \\right) \\cdot V\n",
        "$$\n",
        "\n",
        "  Las tres matrices anteriores corresponden cada una a\n",
        "  Q Query(matriz de consulta)\n",
        "  K Key (clave)\n",
        "  V Value (valor)\n",
        "El producto punto entre\n",
        "Q y K permite medir la similitud entre tokens, y con eso se calcula qué tan relevante es cada token con respecto a los demás. El resultado de la atención se usa para ponderar los valores en V, lo anterior permite al modelo enfocarse directamente en enfocarse de forma dinámica a aprender en diferentes partes de la secuencia de forma paralela.\n",
        "Estas distintas proyecciones hacen que el modelo aprenda relaciones desde múltiples puntos de vista (gramática, sintaxis, semántica, etc.), especialmente cuando se usan múltiples cabezas de atención en paralelo.\n",
        "\n",
        "\n",
        "- Al hacer el cálculo de atención, ¿por qué se normaliza el producto punto por la dimensión de los vectores de query y key?\n",
        "> **Respuesta:**\n",
        "  Se normaliza para que no explote la optimización y para prevenir que valores muy altos junto a las dimensiones altas de los vectores key y query hagan que el aprendizaje sea difícil  además normalizamos porque esperamos ques que la varianza esté acotada, i.e los datos no tengan gran dispersión.\n",
        "  Al dividir  $\\sqrt{p}$\n",
        " , se reduce la varianza del producto escalar, estabilizando los valores antes del softmax y asegurando un entrenamiento más eficiente y estable.\n",
        "Esto permite que la atención funcione correctamente incluso con vectores de alta dimensión\n",
        "\n",
        "- ¿Cuál es la función del masking causal al calcular self-attention? ¿Por qué no se aplica masking causal en el modelo BERT? ¿Qué tipo de masking utiliza BERT?\n",
        "> **Respuesta:**\n",
        "La función del masking causal permite evitar que el token aprenda información futura y solo se entrene con información pasada, lo cual es útil para modelos autoregresivos como GPT. Esto se logra aplicando una máscara triangular inferior, que bloquea la atención hacia tokens posteriores, manteniendo la causalidad en la generación.\n",
        "\n",
        "En cambio, modelos como BERT, que son bidireccionales, no usan este tipo de máscara porque su objetivo es distinto. En vez de generar texto secuencialmente, BERT se entrena con una tarea llamada masked language modeling, donde se enmascaran tokens al azar dentro de la secuencia, y el modelo los predice usando tanto el contexto anterior como el posterior.\n",
        "Esto le permite aprender una representación más completa del texto, lo que lo hace útil para tareas como clasificación, QA o detección de entidades.."
      ]
    },
    {
      "cell_type": "markdown",
      "metadata": {
        "id": "Z1VQb3-Qru2u"
      },
      "source": [
        "## Parte 2 (instruction fine tuning)\n",
        "\n",
        "Esta parte tiene dos objetivos principales:\n",
        "- Entender cómo se realiza instruction fine tuning (IFT). Esto busca evaluar que se entiende el proceso de entrenamiento de un LLM.\n",
        "- Implementar KV caching para acelerar la inferencia de un LLM. Esto busca evaluar que se entiende el proceso de generación de un LLM."
      ]
    },
    {
      "cell_type": "code",
      "execution_count": 1,
      "metadata": {
        "id": "qGYiDPRXru2u",
        "colab": {
          "base_uri": "https://localhost:8080/"
        },
        "collapsed": true,
        "outputId": "e5b5d52a-612b-406c-d6c3-0f7a162e9820"
      },
      "outputs": [
        {
          "output_type": "stream",
          "name": "stdout",
          "text": [
            "Collecting tiktoken\n",
            "  Downloading tiktoken-0.9.0-cp311-cp311-manylinux_2_17_x86_64.manylinux2014_x86_64.whl.metadata (6.7 kB)\n",
            "Requirement already satisfied: regex>=2022.1.18 in /usr/local/lib/python3.11/dist-packages (from tiktoken) (2024.11.6)\n",
            "Requirement already satisfied: requests>=2.26.0 in /usr/local/lib/python3.11/dist-packages (from tiktoken) (2.32.3)\n",
            "Requirement already satisfied: charset-normalizer<4,>=2 in /usr/local/lib/python3.11/dist-packages (from requests>=2.26.0->tiktoken) (3.4.1)\n",
            "Requirement already satisfied: idna<4,>=2.5 in /usr/local/lib/python3.11/dist-packages (from requests>=2.26.0->tiktoken) (3.10)\n",
            "Requirement already satisfied: urllib3<3,>=1.21.1 in /usr/local/lib/python3.11/dist-packages (from requests>=2.26.0->tiktoken) (2.3.0)\n",
            "Requirement already satisfied: certifi>=2017.4.17 in /usr/local/lib/python3.11/dist-packages (from requests>=2.26.0->tiktoken) (2025.1.31)\n",
            "Downloading tiktoken-0.9.0-cp311-cp311-manylinux_2_17_x86_64.manylinux2014_x86_64.whl (1.2 MB)\n",
            "\u001b[2K   \u001b[90m━━━━━━━━━━━━━━━━━━━━━━━━━━━━━━━━━━━━━━━━\u001b[0m \u001b[32m1.2/1.2 MB\u001b[0m \u001b[31m16.5 MB/s\u001b[0m eta \u001b[36m0:00:00\u001b[0m\n",
            "\u001b[?25hInstalling collected packages: tiktoken\n",
            "Successfully installed tiktoken-0.9.0\n"
          ]
        }
      ],
      "source": [
        "!pip install tiktoken\n",
        "\n",
        "import torch\n",
        "import time\n",
        "from torch import nn, optim\n",
        "from torch.utils.data import Dataset, DataLoader\n",
        "import matplotlib.pyplot as plt\n",
        "import tqdm\n",
        "import json\n",
        "import tiktoken\n",
        "import gdown\n",
        "\n",
        "DEVICE = torch.device('cuda' if torch.cuda.is_available() else 'cpu')"
      ]
    },
    {
      "cell_type": "markdown",
      "metadata": {
        "id": "2NxVEk93ru2v"
      },
      "source": [
        "Se comenzará descargando los datos de entrenamiento y los parámetros de un modelo ya pre-entrenado (GPT 2):"
      ]
    },
    {
      "cell_type": "code",
      "execution_count": 2,
      "metadata": {
        "id": "OBv36uq3ru2v",
        "colab": {
          "base_uri": "https://localhost:8080/",
          "height": 127
        },
        "collapsed": true,
        "outputId": "831edcc0-3e19-46b1-8e34-efa37a90c70b"
      },
      "outputs": [
        {
          "output_type": "stream",
          "name": "stderr",
          "text": [
            "Downloading...\n",
            "From (original): https://drive.google.com/uc?id=1Xhh4G2HpR7vTsUx_-FmEfOt7OG9rD3wM\n",
            "From (redirected): https://drive.google.com/uc?id=1Xhh4G2HpR7vTsUx_-FmEfOt7OG9rD3wM&confirm=t&uuid=90cd42d7-c97c-4eae-a60d-f0bc58f016d9\n",
            "To: /content/gpt2.pt\n",
            "100%|██████████| 1.73G/1.73G [00:15<00:00, 110MB/s]\n"
          ]
        },
        {
          "output_type": "execute_result",
          "data": {
            "text/plain": [
              "'gpt2.pt'"
            ],
            "application/vnd.google.colaboratory.intrinsic+json": {
              "type": "string"
            }
          },
          "metadata": {},
          "execution_count": 2
        }
      ],
      "source": [
        "# datos = 'https://drive.google.com/file/d/1Wky_HjclMRrg92bQu-xSp86PrdxLzlZE/view?usp=share_link'\n",
        "# output_path = 'data.json'\n",
        "# gdown.download(datos, output_path, quiet=False,fuzzy=True)\n",
        "\n",
        "# modelo = 'https://drive.google.com/file/d/1Xhh4G2HpR7vTsUx_-FmEfOt7OG9rD3wM/view?usp=share_link'\n",
        "modelo = 'https://drive.google.com/file/d/1cKlSCeTbzCO8QEF_juZ6qbxjUf-kzWD0/view?usp=sharing'\n",
        "output_path = 'gpt2.pt'\n",
        "gdown.download(modelo, output_path, quiet=False,fuzzy=True)"
      ]
    },
    {
      "cell_type": "code",
      "source": [],
      "metadata": {
        "id": "r8NSauxc_pqy"
      },
      "execution_count": 2,
      "outputs": []
    },
    {
      "cell_type": "markdown",
      "metadata": {
        "id": "7UmEvQ2qru2v"
      },
      "source": [
        "### Tokenización\n",
        "\n",
        "Para la tokenización, se utilizará la librería `tiktoken` desarrollada por OpenAI. Esta librería contiene el tokenizador usado por el modelo GPT 2, al cual se le aplicará instruction fine tuning.\n",
        "\n",
        "- ¿Cuál es el tokenizador que utiliza GPT 2? Indique sus principales ventajas sobre tokenizar palabra a palabra.\n",
        "\n",
        "> **Respuesta:**\n",
        "  GPT 2 utiliza BPE (Byte Pair Encoding), este algortimo agrupa letras generando subpalabras que suelen repetirse.\n",
        "  \\\\\n",
        "  VENTAJAS :\n",
        "  - Al no agrupar por palabras completas, se evita el problema de tener que lidiar con palabras nuevas que no estaban en el vocabulario.\n",
        "  - Vocabulario de menor tamaño, al utilizar subpalabras se pueden representar más palabras con menos tokens\n",
        "  - Permite capturar relaciones semánticas entre palabras, ya que las palabras relacionadas suelen tener la misma raíz.\n",
        "\n",
        "- Notar que este tokenizador utiliza un mismo token como token \\<PAD\\> y token \\<EOS\\>, ¿por qué se puede hacer esto?\n",
        "\n",
        "> **Respuesta:**\n",
        "\n",
        "  Como GPT 2 no requiere de secuencias (inputs) de un largo determinado (mismo tamaño), entonces no necesita usar tokens de relleno (\\<PAD>). Por lo tanto, GPT2 puede usar \\<PAD> o \\<EOS> para marcar el fin de la secuencia. Esto es debido a que a diferencia de BERT, GPT no necesita en esa versión enmascaramiento, interpretandose el token de relleno/EOS como el final de una secuencia si esta al final y si esta entremedio como relleno.\n",
        "\n",
        "Se implementará una clase `Tokenizer` con una estructura similar a la implementada en clases:"
      ]
    },
    {
      "cell_type": "code",
      "execution_count": 3,
      "metadata": {
        "id": "GCYmBcAwhuzi"
      },
      "outputs": [],
      "source": [
        "class Tokenizer:\n",
        "\n",
        "    def __init__(self):\n",
        "        self.tokenizer = tiktoken.get_encoding('gpt2')\n",
        "        self.eos_id = 50256\n",
        "        self.pad_id = 50256\n",
        "\n",
        "    def encode(self, text):\n",
        "        return self.tokenizer.encode(text)\n",
        "\n",
        "    def decode(self, seq_ids):\n",
        "        return self.tokenizer.decode(seq_ids)"
      ]
    },
    {
      "cell_type": "markdown",
      "metadata": {
        "id": "M1P41Dg_ru2w"
      },
      "source": [
        "### Dataset de entrenamiento\n",
        "\n",
        "Los datos de entrenamiento están almacenados en un archivo JSON, donde cada entrada es de la forma\n",
        "\n",
        "```\n",
        "{\n",
        "    \"instruction\": <texto con instrucciones>\n",
        "    \"input\":       <texto de entrada (opcional)>\n",
        "    \"output\":      <respuesta>\n",
        "}\n",
        "```\n",
        "\n",
        "La idea del IFT es continuar el entrenamiento de un modelo autorregresivo pre-entrenado (en este caso, se usará GPT 2), donde cada muestra de entrenamiento es una secuencia de texto que contiene:\n",
        "\n",
        "- **Instrucción:** contexto para el modelo. Aquí se le puede indicar que es un asistente que responde consultas hechas en el input.\n",
        "- **Input:** indica la _pregunta_ que el modelo debe responder. Muchas veces, el input es omitido ya que la pregunta se incluye en la instrucción.\n",
        "- **Output:** respuesta que se espera que entregue el modelo.\n",
        "\n",
        "Para entregarle esta información al modelo, es usual construir *instruction templates*, los cuales unen los 3 elementos en una única secuencia de tokens (*prompt*) con una estructura definida.\n",
        "\n",
        "- Implemente el método `format_input` en la clase `InstructionDataset` siguiendo el template Alpaca."
      ]
    },
    {
      "cell_type": "code",
      "execution_count": 4,
      "metadata": {
        "id": "1suuccyYB8KL"
      },
      "outputs": [],
      "source": [
        "class InstructionDataset(Dataset):\n",
        "\n",
        "    def __init__(self, filename, tokenizer):\n",
        "\n",
        "        with open(filename, 'r', encoding='utf-8') as file:\n",
        "            self.data = json.load(file)\n",
        "\n",
        "        self.tokenizer = tokenizer\n",
        "        self.encoded_sequences = []\n",
        "\n",
        "        for sample in self.data:\n",
        "            prompt, response = self.format_input(sample)\n",
        "            full_text = prompt + response\n",
        "            token_ids = tokenizer.encode(full_text)\n",
        "            token_ids.append(tokenizer.eos_id)\n",
        "            self.encoded_sequences.append(token_ids)\n",
        "\n",
        "    def __len__(self):\n",
        "        return len(self.encoded_sequences)\n",
        "\n",
        "    def __getitem__(self, n):\n",
        "        return self.encoded_sequences[n]\n",
        "\n",
        "    @staticmethod\n",
        "    def format_input(sample):\n",
        "        # Datos compuestos por instrucción, input, output/response\n",
        "        # Diseñar el PROMPT\n",
        "        # Prompt instruccion + input (opcional)\n",
        "        prompt = f\"Intrucción: \\n {sample['instruction']} \\n\\n\"\n",
        "        if input != None:\n",
        "            prompt += f\"Input: \\n {sample['input']} \\n\\n\"\n",
        "        prompt += \"Respuesta: \\n\"\n",
        "        response = sample['output']\n",
        "        return prompt, response\n",
        "\n",
        "# Revisar qué ocurre cuando tienes input en blanco"
      ]
    },
    {
      "cell_type": "markdown",
      "metadata": {
        "id": "_stTo3Ukru2w"
      },
      "source": [
        "Se visualizarán algunos ejemplos de muestras que entrega `InstructionDataset`:"
      ]
    },
    {
      "cell_type": "code",
      "execution_count": 6,
      "metadata": {
        "id": "J-P16NTChuzi",
        "colab": {
          "base_uri": "https://localhost:8080/"
        },
        "outputId": "1d46f4d6-8224-440d-d2df-8d6e5b064d19"
      },
      "outputs": [
        {
          "output_type": "stream",
          "name": "stdout",
          "text": [
            "Tamaño dataset: 1100\n",
            "----------------------------------------------------------------------------------------------------\n",
            "Intrucción: \n",
            " Evaluate the following phrase by transforming it into the spelling given. \n",
            "\n",
            "Input: \n",
            " freind --> friend \n",
            "\n",
            "Respuesta: \n",
            "The spelling of the given phrase \"freind\" is incorrect, the correct spelling is \"friend\".<|endoftext|>\n",
            "----------------------------------------------------------------------------------------------------\n",
            "Intrucción: \n",
            " Edit the following sentence for grammar. \n",
            "\n",
            "Input: \n",
            " He go to the park every day. \n",
            "\n",
            "Respuesta: \n",
            "He goes to the park every day.<|endoftext|>\n",
            "----------------------------------------------------------------------------------------------------\n",
            "Intrucción: \n",
            " Convert 45 kilometers to meters. \n",
            "\n",
            "Input: \n",
            "  \n",
            "\n",
            "Respuesta: \n",
            "45 kilometers is 45000 meters.<|endoftext|>\n",
            "----------------------------------------------------------------------------------------------------\n",
            "Intrucción: \n",
            " Rewrite this sentence to start with 'Although': Despite the rain, they went for a walk. \n",
            "\n",
            "Input: \n",
            "  \n",
            "\n",
            "Respuesta: \n",
            "Although it was raining, they went for a walk.<|endoftext|>\n",
            "----------------------------------------------------------------------------------------------------\n",
            "Intrucción: \n",
            " What are the first 10 square numbers? \n",
            "\n",
            "Input: \n",
            "  \n",
            "\n",
            "Respuesta: \n",
            "1, 4, 9, 16, 25, 36, 49, 64, 81, 100.<|endoftext|>\n"
          ]
        }
      ],
      "source": [
        "tokenizer = Tokenizer()\n",
        "dataset = InstructionDataset('data.json', tokenizer)\n",
        "\n",
        "print(f'Tamaño dataset:', len(dataset))\n",
        "\n",
        "for i in range(5):\n",
        "    print('-' * 100)\n",
        "    print(tokenizer.decode(dataset[i]))"
      ]
    },
    {
      "cell_type": "markdown",
      "metadata": {
        "id": "PF-BQLlfru2x"
      },
      "source": [
        "### Dataloader\n",
        "\n",
        "Dado que el entrenamiento se realiza utilizando batches de secuencias, todas las secuencias deben ser del mismo largo, por lo que las secuencias muy largas se truncan a un largo fijo, mientras que las secuencias muy cortas se extienden hasta el mismo largo fijo. En clases, este preprocesamiento se implementó dentro de la clase asociada al dataset. En este caso, el preprocesamiento se definirá al instanciar el dataloader usando una _collate function_ (función `collate_fn` implementada en la siguiente celda):"
      ]
    },
    {
      "cell_type": "code",
      "execution_count": 7,
      "metadata": {
        "id": "UU46WjTpB8KM"
      },
      "outputs": [],
      "source": [
        "def collate_fn(batch):\n",
        "\n",
        "    max_len = max(len(seq) for seq in batch)\n",
        "\n",
        "    padded_batch = []\n",
        "    for seq in batch:\n",
        "        if len(seq) < max_len:\n",
        "            seq = seq + [tokenizer.eos_id] * (max_len - len(seq))\n",
        "        else:\n",
        "            seq = seq[:max_len]\n",
        "        padded_batch.append(seq)\n",
        "\n",
        "    padded_tensor = torch.tensor(padded_batch, dtype=torch.long)\n",
        "\n",
        "    return padded_tensor"
      ]
    },
    {
      "cell_type": "code",
      "execution_count": 8,
      "metadata": {
        "id": "tJf7YcaiB8KN",
        "colab": {
          "base_uri": "https://localhost:8080/"
        },
        "outputId": "f68358e9-cef0-472a-c47c-19daf00ff5bb"
      },
      "outputs": [
        {
          "output_type": "stream",
          "name": "stdout",
          "text": [
            "torch.Size([8, 77]) torch.Size([8, 59])\n"
          ]
        }
      ],
      "source": [
        "dataloader = DataLoader(dataset, batch_size=8, shuffle=True, collate_fn=collate_fn)\n",
        "\n",
        "# Ejemplo:\n",
        "batch1 = next(iter(dataloader))\n",
        "batch2 = next(iter(dataloader))\n",
        "print(batch1.shape, batch2.shape)"
      ]
    },
    {
      "cell_type": "markdown",
      "metadata": {
        "id": "gMwIQKsWXNYx"
      },
      "source": [
        "- ¿Cuál es la principal ventaja de realizar este cambio?\n",
        "\n",
        ">**Respuesta:**\n",
        "La principal ventaja de incorporar el collate_fn personalizado en el DataLoader es que permite manejar de forma eficiente la variabilidad en el largo de las secuencias del dataset al momento de entrenar el modelo. Lo anterior se debe a que modelos como GPT-2 no aceptan secuencias de diferentes longitudes en un mismo batch, es necesario alinear todas las entradas. Esta función automatiza ese proceso agregando padding dinámico o truncando de forma flexible antes de alimentar el modelo con información, según corresponda, justo antes de alimentar el modelo.\n",
        "\n",
        "Esto no solo mantiene el dataset limpio (sin necesidad de preprocesar y almacenar todo con padding fijo), sino que también permite una carga de datos más eficiente y adaptable, especialmente cuando se trabaja con datasets grandes como el caso anterior, con 1100 muestras.\n",
        "\n",
        "Además, al asegurar que todas las secuencias dentro de un batch tengan el mismo tamaño (longitud), se habilita la paralelización efectiva en GPU, lo cual mejora significativamente la velocidad de entrenamiento. Osea, este cambio optimiza el rendimiento, mejora el uso de recursos y facilita el escalamiento del modelo hacia tareas más exigentes."
      ]
    },
    {
      "cell_type": "markdown",
      "metadata": {
        "id": "DIqq9AKOhuzj"
      },
      "source": [
        "### Arquitectura GPT\n",
        "\n",
        "La siguiente celda contiene una implementación del modelo GPT 2:"
      ]
    },
    {
      "cell_type": "code",
      "execution_count": 9,
      "metadata": {
        "id": "aTRuXt3oB8KO"
      },
      "outputs": [],
      "source": [
        "class MultiHeadAttention(nn.Module):\n",
        "    def __init__(self, d_in, d_out, context_length, dropout, num_heads, qkv_bias=False):\n",
        "        super().__init__()\n",
        "\n",
        "        self.d_out = d_out\n",
        "        self.num_heads = num_heads\n",
        "        self.head_dim = d_out // num_heads\n",
        "\n",
        "        self.W_query = nn.Linear(d_in, d_out, bias=qkv_bias)\n",
        "        self.W_key = nn.Linear(d_in, d_out, bias=qkv_bias)\n",
        "        self.W_value = nn.Linear(d_in, d_out, bias=qkv_bias)\n",
        "        self.out_proj = nn.Linear(d_out, d_out)\n",
        "        self.dropout = nn.Dropout(dropout)\n",
        "        self.register_buffer('mask', torch.triu(torch.ones(context_length, context_length),\n",
        "                                                diagonal=1))\n",
        "\n",
        "    def forward(self, x):\n",
        "        b, num_tokens, d_in = x.shape\n",
        "\n",
        "        keys = self.W_key(x)\n",
        "        queries = self.W_query(x)\n",
        "        values = self.W_value(x)\n",
        "\n",
        "        keys = keys.view(b, num_tokens, self.num_heads, self.head_dim)\n",
        "        values = values.view(b, num_tokens, self.num_heads, self.head_dim)\n",
        "        queries = queries.view(b, num_tokens, self.num_heads, self.head_dim)\n",
        "\n",
        "        keys = keys.transpose(1, 2)\n",
        "        queries = queries.transpose(1, 2)\n",
        "        values = values.transpose(1, 2)\n",
        "\n",
        "        new_seq_length = queries.shape[2]\n",
        "        mask = torch.triu(torch.ones(new_seq_length, new_seq_length, device=x.device),\n",
        "                          diagonal=1).bool()\n",
        "        attn_scores = queries @ keys.transpose(2, 3)\n",
        "        attn_scores.masked_fill_(mask, -torch.inf)\n",
        "\n",
        "        attn_weights = torch.softmax(attn_scores / (keys.shape[-1] ** 0.5), dim=-1)\n",
        "        attn_weights = self.dropout(attn_weights)\n",
        "\n",
        "        context_vec = (attn_weights @ values).transpose(1, 2)\n",
        "        context_vec = context_vec.reshape(b, num_tokens, self.d_out)\n",
        "        context_vec = self.out_proj(context_vec)\n",
        "\n",
        "        return context_vec\n",
        "\n",
        "class LayerNorm(nn.Module):\n",
        "    def __init__(self, emb_dim):\n",
        "        super().__init__()\n",
        "        self.eps = 1e-5\n",
        "        self.scale = nn.Parameter(torch.ones(emb_dim))\n",
        "        self.shift = nn.Parameter(torch.zeros(emb_dim))\n",
        "\n",
        "    def forward(self, x):\n",
        "        mean = x.mean(dim=-1, keepdim=True)\n",
        "        var = x.var(dim=-1, keepdim=True, unbiased=False)\n",
        "        norm_x = (x - mean) / torch.sqrt(var + self.eps)\n",
        "        return self.scale * norm_x + self.shift\n",
        "\n",
        "class GELU(nn.Module):\n",
        "    def __init__(self):\n",
        "        super().__init__()\n",
        "\n",
        "    def forward(self, x):\n",
        "        return 0.5 * x * (1 + torch.tanh(\n",
        "            torch.sqrt(torch.tensor(2.0 / torch.pi)) *\n",
        "            (x + 0.044715 * torch.pow(x, 3))\n",
        "        ))\n",
        "\n",
        "class FeedForward(nn.Module):\n",
        "    def __init__(self, cfg):\n",
        "        super().__init__()\n",
        "        self.layers = nn.Sequential(\n",
        "            nn.Linear(cfg[\"emb_dim\"], 4 * cfg[\"emb_dim\"]),\n",
        "            GELU(),\n",
        "            nn.Linear(4 * cfg[\"emb_dim\"], cfg[\"emb_dim\"]),\n",
        "        )\n",
        "\n",
        "    def forward(self, x):\n",
        "        return self.layers(x)\n",
        "\n",
        "class TransformerBlock(nn.Module):\n",
        "    def __init__(self, cfg):\n",
        "        super().__init__()\n",
        "        self.att = MultiHeadAttention(\n",
        "            d_in=cfg[\"emb_dim\"],\n",
        "            d_out=cfg[\"emb_dim\"],\n",
        "            context_length=cfg[\"context_length\"],\n",
        "            num_heads=cfg[\"n_heads\"],\n",
        "            dropout=cfg[\"drop_rate\"],\n",
        "            qkv_bias=cfg[\"qkv_bias\"])\n",
        "        self.ff = FeedForward(cfg)\n",
        "        self.norm1 = LayerNorm(cfg[\"emb_dim\"])\n",
        "        self.norm2 = LayerNorm(cfg[\"emb_dim\"])\n",
        "        self.drop_resid = nn.Dropout(cfg[\"drop_rate\"])\n",
        "\n",
        "    def forward(self, x):\n",
        "        shortcut = x\n",
        "        x = self.norm1(x)\n",
        "        attn_output = self.att(x)\n",
        "        x = self.drop_resid(attn_output)\n",
        "        x = x + shortcut\n",
        "\n",
        "        shortcut = x\n",
        "        x = self.norm2(x)\n",
        "        x = self.ff(x)\n",
        "        x = self.drop_resid(x)\n",
        "        x = x + shortcut\n",
        "\n",
        "        return x\n",
        "\n",
        "class GPTModel(nn.Module):\n",
        "    def __init__(self, cfg):\n",
        "        super().__init__()\n",
        "        self.tok_emb = nn.Embedding(cfg[\"vocab_size\"], cfg[\"emb_dim\"])\n",
        "        self.pos_emb = nn.Embedding(cfg[\"context_length\"], cfg[\"emb_dim\"])\n",
        "        self.drop_emb = nn.Dropout(cfg[\"drop_rate\"])\n",
        "\n",
        "        self.trf_blocks = nn.Sequential(\n",
        "            *[TransformerBlock(cfg) for _ in range(cfg[\"n_layers\"])])\n",
        "\n",
        "        self.final_norm = LayerNorm(cfg[\"emb_dim\"])\n",
        "        self.out_head = nn.Linear(cfg[\"emb_dim\"], cfg[\"vocab_size\"], bias=False)\n",
        "\n",
        "    def forward(self, in_idx):\n",
        "        batch_size, seq_len = in_idx.shape\n",
        "        tok_embeds = self.tok_emb(in_idx)\n",
        "        pos_indices = torch.arange(seq_len, device=in_idx.device)\n",
        "        pos_embeds = self.pos_emb(pos_indices)\n",
        "        x = tok_embeds + pos_embeds\n",
        "        x = self.drop_emb(x)\n",
        "\n",
        "        for block in self.trf_blocks:\n",
        "            x = block(x)\n",
        "\n",
        "        x = self.final_norm(x)\n",
        "        logits = self.out_head(x)\n",
        "        return logits"
      ]
    },
    {
      "cell_type": "markdown",
      "metadata": {
        "id": "6n7foQP-ru2z"
      },
      "source": [
        "Notar que esta implementación tiene algunas diferencias menores con la implementación vista en clases. Por ejemplo, se realiza el cálculo de MHSA de forma directa (convencerse de que la clase `MultiHeadAttention` realiza lo esperado) y también se consideran términos de bias en las capas lineales (aunque trabajos posteriores muestran que no usar términos de bias estabiliza el entrenamiento en modelos más grandes).\n",
        "\n",
        "Se inicializará el modelo GPT 2 con los parámetros descargados anteriormente:"
      ]
    },
    {
      "cell_type": "code",
      "execution_count": 10,
      "metadata": {
        "id": "6Y5OL7Dghuzo",
        "colab": {
          "base_uri": "https://localhost:8080/"
        },
        "outputId": "c0cde9fc-4bf8-435a-868a-70f001ca1902"
      },
      "outputs": [
        {
          "output_type": "stream",
          "name": "stdout",
          "text": [
            "Cantidad de parámetros: 406.3 millones.\n"
          ]
        }
      ],
      "source": [
        "# Arquitectura GPT:\n",
        "\n",
        "cfig = {'vocab_size': 50257,\n",
        " 'context_length': 1024,\n",
        " 'drop_rate': 0.0,\n",
        " 'qkv_bias': True,\n",
        " 'emb_dim': 1024,\n",
        " 'n_layers': 24,\n",
        " 'n_heads': 16}\n",
        "\n",
        "gpt = GPTModel(cfig)\n",
        "gpt.to(DEVICE)\n",
        "\n",
        "# Inicialización:\n",
        "params = torch.load('gpt2.pt', map_location=DEVICE)\n",
        "gpt.load_state_dict(params)\n",
        "\n",
        "# Cantidad de parámetros:\n",
        "n_params = sum(param.numel() for param in gpt.parameters()) / 1e6\n",
        "print(f'Cantidad de parámetros: {n_params:.4} millones.')"
      ]
    },
    {
      "cell_type": "markdown",
      "metadata": {
        "id": "NjjM7zXYhuzo"
      },
      "source": [
        "### Entrenamiento\n",
        "\n",
        "Para el entrenamiento (fine tuning) se utilizará el mismo loop definido en clases:"
      ]
    },
    {
      "cell_type": "code",
      "execution_count": 11,
      "metadata": {
        "id": "5OCeHErnru20"
      },
      "outputs": [],
      "source": [
        "def train_model(model, optimizer, dataloader, epochs, ckpt_filename):\n",
        "\n",
        "    model.to(DEVICE)\n",
        "    model.train()\n",
        "\n",
        "    pad_id = dataloader.dataset.tokenizer.pad_id\n",
        "    loss_fn = nn.CrossEntropyLoss(ignore_index=pad_id)\n",
        "\n",
        "    training = {'losses': [], 'model': None}\n",
        "\n",
        "    try:\n",
        "        progressbar = tqdm.trange(epochs)\n",
        "        for epoch in progressbar:\n",
        "\n",
        "            for seq_batch in dataloader:\n",
        "\n",
        "                seq_batch = seq_batch.to(DEVICE)\n",
        "                x_batch, y_batch = seq_batch[:, :-1], seq_batch[:, 1:]\n",
        "\n",
        "                logits = model(x_batch)\n",
        "\n",
        "                batch_size, seq_length, vocab_size = logits.shape\n",
        "                logits = logits.reshape(batch_size * seq_length, vocab_size)\n",
        "                y_batch = y_batch.reshape(batch_size * seq_length)\n",
        "\n",
        "                loss = loss_fn(logits, y_batch)\n",
        "\n",
        "                optimizer.zero_grad()\n",
        "                loss.backward()\n",
        "                optimizer.step()\n",
        "\n",
        "                training['losses'].append(loss.item())\n",
        "                progressbar.set_postfix(loss=loss.item())\n",
        "\n",
        "    except KeyboardInterrupt:\n",
        "        print('Entrenamiento interrumpido.')\n",
        "\n",
        "    training['model'] = model.state_dict()\n",
        "    torch.save(training, ckpt_filename)"
      ]
    },
    {
      "cell_type": "markdown",
      "metadata": {
        "id": "Wx-onQxRXNYz"
      },
      "source": [
        "Se entrenará el modelo sobre el dataset definido anteriormente. Para esto, se usará, como es usual, el optimizador Adam:"
      ]
    },
    {
      "cell_type": "code",
      "execution_count": 12,
      "metadata": {
        "id": "q3dalQJvhuzo",
        "colab": {
          "base_uri": "https://localhost:8080/"
        },
        "outputId": "a6efa201-1242-44ab-e17c-bc90bb94a152"
      },
      "outputs": [
        {
          "output_type": "stream",
          "name": "stderr",
          "text": [
            "  0%|          | 0/2 [07:04<?, ?it/s, loss=1.69]\n"
          ]
        },
        {
          "output_type": "stream",
          "name": "stdout",
          "text": [
            "Entrenamiento interrumpido.\n"
          ]
        }
      ],
      "source": [
        "gpt_optimizer = optim.AdamW(gpt.parameters())\n",
        "train_model(gpt, gpt_optimizer, dataloader, epochs=2, ckpt_filename='gpt2_ift.pt')"
      ]
    },
    {
      "cell_type": "code",
      "execution_count": 13,
      "metadata": {
        "id": "gwSJZ-9Whuzo",
        "colab": {
          "base_uri": "https://localhost:8080/",
          "height": 449
        },
        "outputId": "9014884f-e136-4c26-9638-79b7df2d4f69"
      },
      "outputs": [
        {
          "output_type": "display_data",
          "data": {
            "text/plain": [
              "<Figure size 640x480 with 1 Axes>"
            ],
            "image/png": "[encoded data removed]"
          },
          "metadata": {}
        }
      ],
      "source": [
        "gpt_training = torch.load('gpt2_ift.pt', DEVICE, weights_only=True)\n",
        "gpt.load_state_dict(gpt_training['model'])\n",
        "\n",
        "plt.plot(gpt_training['losses'], label='train loss')\n",
        "plt.xlabel('Iteración')\n",
        "plt.ylabel('Entropía cruzada')\n",
        "plt.legend()\n",
        "plt.show()"
      ]
    },
    {
      "cell_type": "markdown",
      "metadata": {
        "id": "CylxOzsPru21"
      },
      "source": [
        "Notar que no se está considerando un dataset de evaluación, lo cual es imprescindible para evaluar el overfitting del modelo. En esta tarea se omitirá la evaluación por simplicidad, pero es importante tener presente que siempre debe realizarse en proyectos reales.\n",
        "\n",
        "- ¿Por qué es malo para un LLM que se produzca overfitting?\n",
        "\n",
        "> **Respuesta:**\n",
        "  El modelo repetiría la misma secuencia, quitandole sentido a la predicción, lo anterior implica tanto que el modelo no podrá ser creativo (buscar nuevas rutas de conocimiento), por lo que no servirá por ejemplo para predecir secuencias levemente o muy diferentes teniendo falta de flexibilidad, recordar que el overfitting implica tener un buen rendimiento en el conjunto de entrenamiento pero no en el de validación (situación real al momento de utilizarlo)\n",
        "\n",
        "- ¿De qué forma se puede evaluar un LLM?\n",
        "\n",
        "> **Respuesta:**\n",
        "\n",
        "  Depende del tipo de LLM que quiero evaluar, por ejemplo BERT,utiliza un enfoque de masked language modeling, enmascarando un token y comprobando su output. es decir si el modelo puede predecirlo bien.\n",
        "  En cambio GPT, utiliza medidas de comparación de rendimiento tales como Perplexicity, evaluando que tan bien predice el modelo las secuencias posteriores, a menor perplexity representa que el modelo esta prediciendo mejor las secuencias y viceversa, con el valor de 1 en predicción perfecta. Para la evaluación de generación \"creativa\" se realizan evaluaciones humanas de especialistas."
      ]
    },
    {
      "cell_type": "markdown",
      "metadata": {
        "id": "kE1F1tWUhuzo"
      },
      "source": [
        "### Generación"
      ]
    },
    {
      "cell_type": "markdown",
      "metadata": {
        "id": "49Nz3Oetru21"
      },
      "source": [
        "Teniendo el modelo entrenado, se puede utilizar para hacer inferencia. El loop de generación que se usará es el mismo que se vio en clases:"
      ]
    },
    {
      "cell_type": "code",
      "execution_count": 14,
      "metadata": {
        "id": "gZV6q6OaaOvg"
      },
      "outputs": [],
      "source": [
        "def generate_tokens(model, context, tokenizer, temperature=1, top_k=50, max_tokens=512, repetition_penalty=1):\n",
        "    model.to(DEVICE)\n",
        "    model.eval()\n",
        "\n",
        "    seq_id = tokenizer.encode(context)\n",
        "    seq_id = torch.tensor(seq_id, device=DEVICE)\n",
        "\n",
        "    with torch.no_grad():\n",
        "        for _ in range(max_tokens):\n",
        "            logits = model(seq_id.unsqueeze(0))[0, -1, :]\n",
        "\n",
        "            if temperature == 0:\n",
        "                next_token = torch.argmax(logits, dim=-1, keepdim=True)\n",
        "            else:\n",
        "                logits = logits / temperature\n",
        "\n",
        "                token_counts = torch.bincount(seq_id, minlength=logits.size(0))\n",
        "                for token_id, count in enumerate(token_counts):\n",
        "                    if count > 0:\n",
        "                        logits[token_id] /= (repetition_penalty ** count)\n",
        "\n",
        "                top_k_logits, top_k_indices = torch.topk(logits, top_k)\n",
        "                probs = top_k_logits.softmax(dim=-1)\n",
        "                next_token = top_k_indices[torch.multinomial(probs, num_samples=1)]\n",
        "\n",
        "            seq_id = torch.cat((seq_id, next_token), dim=0)\n",
        "\n",
        "            if next_token in (tokenizer.eos_id, tokenizer.pad_id):\n",
        "                break\n",
        "\n",
        "    return tokenizer.decode(seq_id.tolist())"
      ]
    },
    {
      "cell_type": "markdown",
      "metadata": {
        "id": "zB6SMpQdru21"
      },
      "source": [
        "Para evaluar cualitativamente el entrenamiento, se comparará la respuesta generada por el modelo con la respuesta real utilizando una muestra del train set. Notar que el modelo puede estar sobreajustado, por lo que puede haber memorizado la respuesta. Sin embargo, en esta tarea no nos preocuparemos de eso (para evitar overfitting, basta con entrenar sobre más datos y durante más tiempo, siguiendo las leyes de escala de los LLMs).\n",
        "\n",
        "- Ajuste los hiperparámetros de generación (`temperature`, `top_k`, `max_tokens` y `repetition_penalty`) para obtener resultados aceptables. Proponga una hipótesis de por qué los hiperparámetros elegidos generan buenos resultados."
      ]
    },
    {
      "cell_type": "code",
      "execution_count": 15,
      "metadata": {
        "id": "EA_il9UQD5EL",
        "colab": {
          "base_uri": "https://localhost:8080/"
        },
        "outputId": "530c3e3a-facf-445c-b60f-ddee0ca1b6cb"
      },
      "outputs": [
        {
          "output_type": "stream",
          "name": "stdout",
          "text": [
            "Intrucción: \n",
            " Edit the following sentence to correct any grammar errors. \n",
            "\n",
            "Input: \n",
            " They was waiting for the bus all day. \n",
            "\n",
            "Respuesta: \n",
            "\n",
            "\n",
            "\n",
            "\n",
            "\n",
            "\n",
            "\n",
            "\n",
            "\n",
            "\n",
            "\n",
            "\n",
            "\n",
            "\n",
            "\n",
            "\n",
            "\n",
            "\n",
            "\n",
            "\n",
            "\n",
            "\n",
            "\n",
            "\n",
            "\n",
            "\n",
            "\n",
            "\n",
            "\n",
            "\n",
            "\n",
            "\n",
            "\n",
            "\n",
            "\n",
            "\n",
            "\n",
            "\n",
            "\n",
            "\n",
            "\n",
            "\n",
            "\n",
            "\n",
            "\n",
            "\n",
            "\n",
            "\n",
            "\n",
            "\n",
            "\n",
            "\n",
            "\n",
            "\n",
            "\n",
            "\n",
            "\n",
            "\n",
            "\n",
            "\n",
            "\n",
            "\n",
            "\n",
            "\n",
            "\n",
            "\n",
            "\n",
            "\n",
            "\n",
            "\n",
            "\n",
            "\n",
            "\n",
            "\n",
            "\n",
            "\n",
            "\n",
            "\n",
            "\n",
            "\n",
            "\n",
            "--------------------------------------------------------------------------------\n",
            "\n",
            "RESPUESTA REAL: They were waiting for the bus all day.\n"
          ]
        }
      ],
      "source": [
        "temperature = 0.7\n",
        "top_k = 50\n",
        "max_tokens = 80\n",
        "repetition_penalty = 1.2\n",
        "\n",
        "i = torch.randint(100, size=[1]).item()\n",
        "\n",
        "prompt, real_response = dataset.format_input(dataset.data[i])\n",
        "output = generate_tokens(gpt, prompt, dataset.tokenizer, temperature, top_k, max_tokens, repetition_penalty)\n",
        "\n",
        "print(output)\n",
        "print(\"-\" * 80 + \"\\n\")\n",
        "print(f'RESPUESTA REAL: {real_response}')"
      ]
    },
    {
      "cell_type": "markdown",
      "source": [
        "PROPONER HIPOTESIS HIPERPARAMETROS ELEGIDOS"
      ],
      "metadata": {
        "id": "J8qL8uBHSPhH"
      }
    },
    {
      "cell_type": "code",
      "source": [
        "i = torch.randint(100, size=[1]).item()\n",
        "print(i)\n",
        "dataset.data[i]"
      ],
      "metadata": {
        "id": "JB1figwIpOPB",
        "colab": {
          "base_uri": "https://localhost:8080/"
        },
        "outputId": "429ca057-5de4-43e0-cfd1-99a94dbd4ee0"
      },
      "execution_count": 16,
      "outputs": [
        {
          "output_type": "stream",
          "name": "stdout",
          "text": [
            "17\n"
          ]
        },
        {
          "output_type": "execute_result",
          "data": {
            "text/plain": [
              "{'instruction': 'What is the pH of a neutral solution at 25°C?',\n",
              " 'input': '',\n",
              " 'output': 'The pH of a neutral solution at 25°C is 7.'}"
            ]
          },
          "metadata": {},
          "execution_count": 16
        }
      ]
    },
    {
      "cell_type": "markdown",
      "metadata": {
        "id": "DmMgT_Ugru22"
      },
      "source": [
        "## Parte 3 (KV caching)\n",
        "\n",
        "En clases se revisó la técnica de KV caching, la cual modifica la implementación de un modelo para poder realizar el cálculo de atención de manera más eficiente durante la inferencia. Esta técnica consiste en almacenar temporalmente los vectores de key y value de los tokens procesados anteriormente para así no tener que calcular las proyecciones $K$ y $V$ necesarias para el cálculo de atención.\n",
        "\n",
        "En esta pregunta se debe modificar el código anterior para habilitar la opción de hacer KV caching. Para esto, se sugiere lo siguiente:\n",
        "- Modificar los módulos de la arquitectura GPT para que el modelo pueda recibir vectores de key y value calculados anteriormente y, así, utilizarlo en el cálculo de atención. De esta forma, el modelo debería retornar una tupla de la forma `output, (keys, values)`, donde `output` es la salida original del modelo (lo que retorna actualmente) y `(keys, values)` son las matrices de query y value actualizadas (se agrega una fila con los vectores recién calculados).\n",
        "- Modificar la función `generate_tokens` para que realice la generación utilizando la técnica de KV caching utilizando las matrices `(keys, values)` que se van actualizando en cada iteración.\n",
        "\n",
        "Notar que KV caching no se utiliza durante el entrenamiento. Por otro lado, es importante ver que solo es necesario modificar los métodos `forward` de algunos módulos y no los métodos `__init__`. En particular, esto no alterará la cantidad de parámetros, por lo que se puede cargar el modelo entrenado en la pregunta anterior."
      ]
    },
    {
      "cell_type": "code",
      "execution_count": 40,
      "metadata": {
        "id": "ft8lSg7Sru22"
      },
      "outputs": [],
      "source": [
        "class MultiHeadAttention(nn.Module):\n",
        "    def __init__(self, d_in, d_out, context_length, dropout, num_heads, qkv_bias=False):\n",
        "        super().__init__()\n",
        "\n",
        "        self.d_out = d_out\n",
        "        self.num_heads = num_heads\n",
        "        self.head_dim = d_out // num_heads\n",
        "\n",
        "        self.W_query = nn.Linear(d_in, d_out, bias=qkv_bias)\n",
        "        self.W_key = nn.Linear(d_in, d_out, bias=qkv_bias)\n",
        "        self.W_value = nn.Linear(d_in, d_out, bias=qkv_bias)\n",
        "        self.out_proj = nn.Linear(d_out, d_out)\n",
        "        self.dropout = nn.Dropout(dropout)\n",
        "        self.register_buffer('mask',\n",
        "                             torch.triu(torch.ones(context_length, context_length),\n",
        "                                        diagonal=1))\n",
        "\n",
        "    def forward(self, x, past_key_value=None):\n",
        "        b, num_tokens, d_in = x.shape\n",
        "\n",
        "        keys = self.W_key(x)\n",
        "        queries = self.W_query(x)\n",
        "        values = self.W_value(x)\n",
        "\n",
        "        keys = keys.view(b, num_tokens, self.num_heads, self.head_dim)\n",
        "        values = values.view(b, num_tokens, self.num_heads, self.head_dim)\n",
        "        queries = queries.view(b, num_tokens, self.num_heads, self.head_dim)\n",
        "\n",
        "        keys = keys.transpose(1, 2)\n",
        "        queries = queries.transpose(1, 2)\n",
        "        values = values.transpose(1, 2)\n",
        "\n",
        "        # Si hay valores anteriores, los concatenamos\n",
        "        if past_key_value is not None:\n",
        "            past_k, past_v = past_key_value\n",
        "            keys = torch.cat((past_k, keys), dim=2)\n",
        "            values = torch.cat((past_v, values), dim=2)\n",
        "\n",
        "\n",
        "        new_seq_length = queries.shape[2]\n",
        "        mask = torch.triu(torch.ones(new_seq_length, new_seq_length, device=x.device),\n",
        "                          diagonal=1).bool()\n",
        "        attn_scores = queries @ keys.transpose(2, 3)\n",
        "        attn_scores.masked_fill_(mask, -torch.inf)\n",
        "\n",
        "        attn_weights = torch.softmax(attn_scores / (keys.shape[-1] ** 0.5), dim=-1)\n",
        "        attn_weights = self.dropout(attn_weights)\n",
        "\n",
        "        context_vec = (attn_weights @ values).transpose(1, 2)\n",
        "        context_vec = context_vec.reshape(b, num_tokens, self.d_out)\n",
        "        context_vec = self.out_proj(context_vec)\n",
        "\n",
        "        output=context_vec\n",
        "\n",
        "        return output, (keys, values)\n",
        "\n",
        "\n",
        "class TransformerBlock(nn.Module):\n",
        "    def __init__(self, cfg):\n",
        "        super().__init__()\n",
        "        self.att = MultiHeadAttention(\n",
        "            d_in=cfg[\"emb_dim\"],\n",
        "            d_out=cfg[\"emb_dim\"],\n",
        "            context_length=cfg[\"context_length\"],\n",
        "            num_heads=cfg[\"n_heads\"],\n",
        "            dropout=cfg[\"drop_rate\"],\n",
        "            qkv_bias=cfg[\"qkv_bias\"])\n",
        "        self.ff = FeedForward(cfg)\n",
        "        self.norm1 = LayerNorm(cfg[\"emb_dim\"])\n",
        "        self.norm2 = LayerNorm(cfg[\"emb_dim\"])\n",
        "        self.drop_resid = nn.Dropout(cfg[\"drop_rate\"])\n",
        "\n",
        "    def forward(self, x, past_key_value=None):\n",
        "        shortcut = x\n",
        "        x = self.norm1(x)\n",
        "\n",
        "        # tener cuidado, ahora las multihead retornan tanto los outputs como los\n",
        "        # key y values anteriores\n",
        "        attn_output, (keys, values) = self.att(x, past_key_value)\n",
        "\n",
        "        x = self.drop_resid(attn_output)\n",
        "        x = x + shortcut\n",
        "\n",
        "        shortcut = x\n",
        "        x = self.norm2(x)\n",
        "        x = self.ff(x)\n",
        "        x = self.drop_resid(x)\n",
        "        x = x + shortcut\n",
        "\n",
        "        return x, (keys, values)\n",
        "\n",
        "class GPTModel(nn.Module):\n",
        "    def __init__(self, cfg):\n",
        "        super().__init__()\n",
        "        self.tok_emb = nn.Embedding(cfg[\"vocab_size\"], cfg[\"emb_dim\"])\n",
        "        self.pos_emb = nn.Embedding(cfg[\"context_length\"], cfg[\"emb_dim\"])\n",
        "        self.drop_emb = nn.Dropout(cfg[\"drop_rate\"])\n",
        "\n",
        "        self.trf_blocks = nn.Sequential(\n",
        "            *[TransformerBlock(cfg) for _ in range(cfg[\"n_layers\"])])\n",
        "\n",
        "        self.final_norm = LayerNorm(cfg[\"emb_dim\"])\n",
        "        self.out_head = nn.Linear(cfg[\"emb_dim\"], cfg[\"vocab_size\"], bias=False)\n",
        "\n",
        "    def forward(self, in_idx, past_key_value=None):\n",
        "        batch_size, seq_len = in_idx.shape\n",
        "        tok_embeds = self.tok_emb(in_idx)\n",
        "\n",
        "        pos_indices = torch.arange(seq_len, device=in_idx.device)\n",
        "        pos_embeds = self.pos_emb(pos_indices)\n",
        "        x = tok_embeds + pos_embeds\n",
        "        x = self.drop_emb(x)\n",
        "\n",
        "        for i, block in enumerate(self.trf_blocks):\n",
        "          if past_key_value is not None:\n",
        "            past_key_value = past_key_value[i]\n",
        "          else:\n",
        "            past_key_value = None\n",
        "          x, (keys,values) = block(x, past_key_value=past_key_value)\n",
        "        # Guardamos inmediatamente los últimos keys y values\n",
        "\n",
        "        x = self.final_norm(x)\n",
        "        output = self.out_head(x)\n",
        "        return output, (keys, values)"
      ]
    },
    {
      "cell_type": "markdown",
      "metadata": {
        "id": "hZL5qy5aIe1M"
      },
      "source": [
        "Se cargará el modelo entrenado sobre esta nueva arquitectura. Dado que no se cambió el número de parámetros, los pesos se pueden cargar sin problemas:"
      ]
    },
    {
      "cell_type": "code",
      "execution_count": 41,
      "metadata": {
        "id": "qiOgs2DSru22",
        "colab": {
          "base_uri": "https://localhost:8080/"
        },
        "outputId": "96d87b92-4eac-4b6f-c4c0-9afcc81163d1"
      },
      "outputs": [
        {
          "output_type": "execute_result",
          "data": {
            "text/plain": [
              "<All keys matched successfully>"
            ]
          },
          "metadata": {},
          "execution_count": 41
        }
      ],
      "source": [
        "# Arquitectura GPT:\n",
        "gpt_kvcaching = GPTModel(cfig)\n",
        "gpt_kvcaching.to(DEVICE)\n",
        "\n",
        "# Carga del modelo entrenado:\n",
        "gpt_training = torch.load('gpt2_ift.pt', DEVICE, weights_only=True)\n",
        "gpt_kvcaching.load_state_dict(gpt_training['model'])"
      ]
    },
    {
      "cell_type": "markdown",
      "metadata": {
        "id": "F3GubMdyItJD"
      },
      "source": [
        "Ahora se debe modificar la función `generate_tokens` para utilizar KV caching:"
      ]
    },
    {
      "cell_type": "code",
      "execution_count": 42,
      "metadata": {
        "id": "BXa_y7jpru22"
      },
      "outputs": [],
      "source": [
        "def generate_tokens_kvcaching(model, context, tokenizer, temperature=1,\n",
        "                              top_k=50, max_tokens=512, repetition_penalty=1):\n",
        "    model.to(DEVICE)\n",
        "    model.eval()\n",
        "\n",
        "    seq_id = tokenizer.encode(context)\n",
        "    seq_id = torch.tensor(seq_id, device=DEVICE)\n",
        "    past_key_value = None\n",
        "\n",
        "    with torch.no_grad():\n",
        "        for _ in range(max_tokens):\n",
        "            logits, past_key_values = model(seq_id.unsqueeze(0), past_key_value)\n",
        "            logits = logits[0, -1, :]\n",
        "\n",
        "            if temperature == 0:\n",
        "                next_token = torch.argmax(logits, dim=-1, keepdim=True)\n",
        "            else:\n",
        "                logits = logits / temperature\n",
        "\n",
        "                token_counts = torch.bincount(seq_id, minlength=logits.size(0))\n",
        "                for token_id, count in enumerate(token_counts):\n",
        "                    if count > 0:\n",
        "                        logits[token_id] /= (repetition_penalty ** count)\n",
        "\n",
        "                top_k_logits, top_k_indices = torch.topk(logits, top_k)\n",
        "                probs = top_k_logits.softmax(dim=-1)\n",
        "                next_token = top_k_indices[torch.multinomial(probs, num_samples=1)]\n",
        "\n",
        "            seq_id = torch.cat((seq_id, next_token), dim=0)\n",
        "\n",
        "            if next_token in (tokenizer.eos_id, tokenizer.pad_id):\n",
        "                break\n",
        "\n",
        "    return tokenizer.decode(seq_id.tolist())"
      ]
    },
    {
      "cell_type": "markdown",
      "metadata": {
        "id": "_H573UriI3Sz"
      },
      "source": [
        "Para ver la diferencia, se generarán muestras utilizando ambos modelos (sin KV caching y con KV caching). Si las cosas quedaron bien implementadas, debería haber una diferencia significativa de rendimiento, la cual se vuelve más notoria a medida que aumenta el largo de las secuencias."
      ]
    },
    {
      "cell_type": "code",
      "execution_count": 43,
      "metadata": {
        "id": "OztcRhdsHrZ0",
        "colab": {
          "base_uri": "https://localhost:8080/"
        },
        "outputId": "59cc7f1a-9b17-4f79-a37e-a7779ccfd054"
      },
      "outputs": [
        {
          "output_type": "stream",
          "name": "stdout",
          "text": [
            "[Frecuencia de generación (con KV caching): 0.8328 tokens/segundo]\n"
          ]
        }
      ],
      "source": [
        "i = torch.randint(100, size=[1]).item()\n",
        "\n",
        "prompt, _ = dataset.format_input(dataset.data[i])\n",
        "\n",
        "# # Sin KV caching:\n",
        "# start_time = time.time()\n",
        "# output = generate_tokens(gpt, prompt, dataset.tokenizer, max_tokens=64)\n",
        "# end_time = time.time()\n",
        "# generation_frequency = (len(output) - len(prompt)) / (end_time - start_time)\n",
        "# print(f'[Frecuencia de generación (sin KV caching): {generation_frequency:.4f} tokens/segundo]')\n",
        "\n",
        "# Usando KV caching:\n",
        "start_time = time.time()\n",
        "output = generate_tokens_kvcaching(gpt_kvcaching, prompt, dataset.tokenizer, max_tokens=64)\n",
        "end_time = time.time()\n",
        "generation_frequency = (len(output) - len(prompt)) / (end_time - start_time)\n",
        "print(f'[Frecuencia de generación (con KV caching): {generation_frequency:.4f} tokens/segundo]')"
      ]
    }
  ],
  "metadata": {
    "accelerator": "TPU",
    "colab": {
      "gpuType": "V28",
      "provenance": []
    },
    "kernelspec": {
      "display_name": "Python 3",
      "name": "python3"
    },
    "language_info": {
      "codemirror_mode": {
        "name": "ipython",
        "version": 3
      },
      "file_extension": ".py",
      "mimetype": "text/x-python",
      "name": "python",
      "nbconvert_exporter": "python",
      "pygments_lexer": "ipython3",
      "version": "3.12.8"
    }
  },
  "nbformat": 4,
  "nbformat_minor": 0
}