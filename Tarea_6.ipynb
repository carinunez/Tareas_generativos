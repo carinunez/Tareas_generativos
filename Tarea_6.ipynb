{
  "cells": [
    {
      "cell_type": "markdown",
      "metadata": {
        "id": "view-in-github",
        "colab_type": "text"
      },
      "source": [
        "<a href=\"https://colab.research.google.com/github/carinunez/Tareas_generativos/blob/main/Tarea_6.ipynb\" target=\"_parent\"><img src=\"https://colab.research.google.com/assets/colab-badge.svg\" alt=\"Open In Colab\"/></a>"
      ]
    },
    {
      "cell_type": "markdown",
      "id": "af536ff1",
      "metadata": {
        "id": "af536ff1"
      },
      "source": [
        "# Tarea 6: Modelos a tiempo continuo\n",
        "\n",
        "### MDS7203 Modelos Generativos Profundos\n",
        "\n",
        "**Nombre:**\n",
        "- Carolina Núñez\n",
        "- Hecmar Taucare\n",
        "\n",
        "**Fecha de entrega:**\n",
        "\n",
        "En esta sexta y última tarea se evaluarán los contenidos asociados a flow matching y modelos de difusión a tiempo continuo. Para esto, se deberá responder algunas preguntas conceptuales y luego implementar la técnicas de flow matching sobre un dataset de juguete.\n",
        "\n",
        "Algunas instrucciones generales:\n",
        "\n",
        "- Se pueden utilizar de manera libre herramientas como ChatGPT y Claude, entre otras.\n",
        "- Para la entrega, no es necesario un informe, este archivo es suficiente.\n",
        "- Se debe entregar el documento con todas las celdas ejecutadas.\n",
        "- Esta tarea puede ser resuelta sin usar GPU.\n",
        "- La tarea está compuesta por dos partes. Ambas partes valen lo mismo."
      ]
    },
    {
      "cell_type": "markdown",
      "id": "1299176f",
      "metadata": {
        "id": "1299176f"
      },
      "source": [
        "## Parte 1: preguntas conceptuales"
      ]
    },
    {
      "cell_type": "markdown",
      "id": "56180262",
      "metadata": {
        "id": "56180262"
      },
      "source": [
        "En esta primera parte se pedirá responder algunas preguntas conceptuales y teóricas acerca de los modelos generativos a tiempo continuo.\n",
        "\n",
        "### Flow matching\n",
        "- ¿Cómo se utiliza el concepto de ecuación diferencial ordinaria (EDO) en flow matching?\n",
        "> **Respuesta:**\n",
        "- ¿Para qué sirve la ecuación de continuidad asociada a una EDO? ¿Cómo se utiliza esta ecuación en flow matching?\n",
        "> **Respuesta:**\n",
        "- ¿Qué relación hay entre la técnica de rectified flows y flow matching?\n",
        "> **Respuesta:**\n",
        "- Escriba el funcional de costo utilizado en flow matching, indicando claramente las distribuciones sobre las que se calculan las esperanzas.\n",
        "> **Respuesta:**\n",
        "- Teniendo un modelo de flow matching entrenado, ¿cómo se generan nuevas muestras?\n",
        "> **Respuesta:**\n",
        "\n",
        "### Modelos de difusión\n",
        "\n",
        "- ¿Qué es un movimiento browiano? ¿Cuáles son las propiedades que lo definen?\n",
        "> **Respuesta:**\n",
        "- ¿Qué diferencia hay entre una EDO y una ecuación diferencial estocástica (SDE)?\n",
        "> **Respuesta:**\n",
        "- ¿Qué es la ecuación de Fokker-Planck? ¿Cómo se relaciona esta ecuación con la ecuación de continuidad?\n",
        "> **Respuesta:**\n",
        "- ¿Para qué se utiliza el teorema de inversión de Anderson en los modelos de difusión a tiempo continuo?\n",
        "> **Respuesta:**\n",
        "- ¿Qué relación hay entre la técnica de denoising score matching y los modelos de difusión a tiempo continuo?\n",
        "> **Respuesta:**\n",
        "- ¿Qué similitudes y diferencias hay entre el algoritmo de Euler y el algoritmo de Euler-Maruyama?\n",
        "> **Respuesta:**\n",
        "- Nombre algunas ventajas de usar la formulación continua de los modelos de difusión en vez de usar la formulación discreta (DDPM).\n",
        "> **Respuesta:**"
      ]
    },
    {
      "cell_type": "markdown",
      "id": "83e09fab",
      "metadata": {
        "id": "83e09fab"
      },
      "source": [
        "## Parte 2: implementación de flow matching"
      ]
    },
    {
      "cell_type": "markdown",
      "id": "1b273130",
      "metadata": {
        "id": "1b273130"
      },
      "source": [
        "En esta segunda parte se pedirá implementar la técnica de flow matching sobre el dataset de juguete que se utilizó a lo largo de todo el curso. Para esto, se pedirá implementar una red neuronal simple y los loops de entrenamiento y de generación de muestras."
      ]
    },
    {
      "cell_type": "code",
      "execution_count": null,
      "id": "f41882af",
      "metadata": {
        "id": "f41882af"
      },
      "outputs": [],
      "source": [
        "import torch\n",
        "from torch import nn, optim\n",
        "from sklearn.datasets import make_swiss_roll\n",
        "import matplotlib.pyplot as plt"
      ]
    },
    {
      "cell_type": "code",
      "execution_count": null,
      "id": "f177de8b",
      "metadata": {
        "id": "f177de8b"
      },
      "outputs": [],
      "source": [
        "def get_batch(batch_size=1000, noise=0.1):\n",
        "    x, _ = make_swiss_roll(batch_size, noise=noise)\n",
        "    x = x[:, [0, 2]]\n",
        "    x = (x - x.mean()) / x.std()\n",
        "    return torch.tensor(x).float()\n",
        "\n",
        "x = get_batch()\n",
        "plt.figure(figsize=(3, 3))\n",
        "plt.scatter(x[:, 0], x[:, 1], s=1)\n",
        "plt.show()"
      ]
    },
    {
      "cell_type": "markdown",
      "id": "0f5c3ff1",
      "metadata": {
        "id": "0f5c3ff1"
      },
      "source": [
        "- Implemente la red neuronal `VectorField` (una red fully connected es suficiente). Recuerde que esta red será la que aprenda el campo de velocidades $u_\\theta:\\R^D\\times[0,1]\\to\\R^D$ asociado a la EDO de flow matching."
      ]
    },
    {
      "cell_type": "code",
      "execution_count": null,
      "id": "9804336a",
      "metadata": {
        "id": "9804336a"
      },
      "outputs": [],
      "source": [
        "class VectorField(nn.Module):\n",
        "\n",
        "    def __init__(self, data_dim=2):\n",
        "        super().__init__()\n",
        "        ...\n",
        "\n",
        "    def forward(self, x_t, t):\n",
        "        ..."
      ]
    },
    {
      "cell_type": "markdown",
      "id": "fbe83075",
      "metadata": {
        "id": "fbe83075"
      },
      "source": [
        "- Complete los métodos `train` y `generate_samples` de la clase `FlowMatching`."
      ]
    },
    {
      "cell_type": "code",
      "execution_count": null,
      "id": "630cc50d",
      "metadata": {
        "id": "630cc50d"
      },
      "outputs": [],
      "source": [
        "class FlowMatching:\n",
        "\n",
        "    def __init__(self, velocity_net):\n",
        "        ...\n",
        "\n",
        "    def train(self, n_iters):\n",
        "        ...\n",
        "\n",
        "    def generate_samples(self, n_samples, n_steps):\n",
        "        ..."
      ]
    },
    {
      "cell_type": "markdown",
      "id": "59900b66",
      "metadata": {
        "id": "59900b66"
      },
      "source": [
        "Con la clase anterior bien implementada, se puede entrenar el modelo y luego generar nuevas muestras:"
      ]
    },
    {
      "cell_type": "code",
      "execution_count": null,
      "id": "ddc2dd88",
      "metadata": {
        "id": "ddc2dd88"
      },
      "outputs": [],
      "source": [
        "# Entrenamiento:\n",
        "velocity_net = VectorField()\n",
        "fm = FlowMatching(velocity_net)\n",
        "fm.train()\n",
        "\n",
        "# Generación:\n",
        "samples = fm.generate_samples()\n",
        "plt.figure(figsize=(3, 3))\n",
        "plt.scatter(samples[:, 0], samples[:, 1], s=1)\n",
        "plt.show()"
      ]
    }
  ],
  "metadata": {
    "kernelspec": {
      "display_name": "Python 3",
      "language": "python",
      "name": "python3"
    },
    "language_info": {
      "codemirror_mode": {
        "name": "ipython",
        "version": 3
      },
      "file_extension": ".py",
      "mimetype": "text/x-python",
      "name": "python",
      "nbconvert_exporter": "python",
      "pygments_lexer": "ipython3",
      "version": "3.12.8"
    },
    "colab": {
      "provenance": [],
      "include_colab_link": true
    }
  },
  "nbformat": 4,
  "nbformat_minor": 5
}